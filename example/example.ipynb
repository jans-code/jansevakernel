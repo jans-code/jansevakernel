{
 "cells": [
  {
   "cell_type": "markdown",
   "id": "3ef6e76c-823a-428b-a79c-277b1a6f063b",
   "metadata": {},
   "source": [
    "# eva does evaluate"
   ]
  },
  {
   "cell_type": "code",
   "execution_count": 1,
   "id": "051c9063-77eb-45c8-b5d8-d3a4edbd06f6",
   "metadata": {
    "tags": []
   },
   "outputs": [
    {
     "name": "stdout",
     "output_type": "stream",
     "text": [
      "25,755,324.0000000000\n"
     ]
    }
   ],
   "source": [
    "4548 * 5663"
   ]
  },
  {
   "cell_type": "code",
   "execution_count": 2,
   "id": "5344939e-3c7b-4143-86d2-c70bca270e1d",
   "metadata": {
    "tags": []
   },
   "outputs": [
    {
     "name": "stdout",
     "output_type": "stream",
     "text": [
      "1.3076923077\n"
     ]
    }
   ],
   "source": [
    "17/13"
   ]
  },
  {
   "cell_type": "code",
   "execution_count": 3,
   "id": "469bca45-1f95-41d8-bd86-daa03f2d365d",
   "metadata": {
    "tags": []
   },
   "outputs": [
    {
     "name": "stdout",
     "output_type": "stream",
     "text": [
      "3.1415926536\n"
     ]
    }
   ],
   "source": [
    "pi"
   ]
  },
  {
   "cell_type": "code",
   "execution_count": 4,
   "id": "95205e7f-a687-4dd9-ad34-86265554bd3a",
   "metadata": {
    "tags": []
   },
   "outputs": [
    {
     "name": "stdout",
     "output_type": "stream",
     "text": [
      "2.7182818285\n"
     ]
    }
   ],
   "source": [
    "e"
   ]
  },
  {
   "cell_type": "code",
   "execution_count": 5,
   "id": "380066dc-dd3c-4dd6-9ff4-88e03e378036",
   "metadata": {
    "tags": []
   },
   "outputs": [
    {
     "name": "stdout",
     "output_type": "stream",
     "text": [
      "1.6180398325\n"
     ]
    }
   ],
   "source": [
    "pi * sin(31)"
   ]
  }
 ],
 "metadata": {
  "kernelspec": {
   "display_name": "eva",
   "language": "",
   "name": "jansevakernel"
  },
  "language_info": {
   "file_extension": ".txt",
   "mimetype": "text/plain",
   "name": "eva"
  }
 },
 "nbformat": 4,
 "nbformat_minor": 5
}
